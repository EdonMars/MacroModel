{
 "cells": [
  {
   "cell_type": "code",
   "execution_count": 38,
   "metadata": {},
   "outputs": [
    {
     "name": "stdout",
     "output_type": "stream",
     "text": [
      "Ritorno del portafoglio: 7.389307751169972\n",
      "Rischio del portafoglio: 10.025182228737958\n",
      "Sharpe Ratio del portafoglio: 0.7370746568564063\n",
      "[9.47418379e-02 2.32824583e-11 1.48081974e-12 7.47869133e-13\n",
      " 5.50167714e-13 3.29865470e-13 7.05169942e-12 4.43825625e-01\n",
      " 3.15122103e-14 1.37145133e-01 3.24287404e-01]\n"
     ]
    },
    {
     "name": "stderr",
     "output_type": "stream",
     "text": [
      "c:\\Users\\edon\\Anaconda3\\envs\\STANDARD\\lib\\site-packages\\ipykernel_launcher.py:14: FutureWarning: Dropping of nuisance columns in DataFrame reductions (with 'numeric_only=None') is deprecated; in a future version this will raise TypeError.  Select only valid columns before calling the reduction.\n",
      "  \n"
     ]
    }
   ],
   "source": [
    "import pandas as pd\n",
    "import numpy as np\n",
    "from scipy.optimize import minimize\n",
    "\n",
    "# Carica i dati dei settori e del valore dell'oro\n",
    "sectors_df = pd.read_csv('src/SECTORS.csv')\n",
    "assets_df = pd.read_csv('src/ASSETS.csv')\n",
    "\n",
    "# Seleziona solo i dati dal 2010 al 2022 per lavorare con un intervallo di tempo comune\n",
    "df = sectors_df.merge(assets_df[['date', 'gold%']], on='date', how='inner').dropna()\n",
    "\n",
    "# Definisce la funzione di calcolo del rendimento del portafoglio con i pesi dati\n",
    "def portfolio_return(weights):\n",
    "    return np.sum(df.mean() * weights) * 12\n",
    "\n",
    "# Definisce la funzione di calcolo della varianza del portafoglio con i pesi dati\n",
    "def portfolio_variance(weights):\n",
    "    return np.dot(weights.T, np.dot(df.cov() * 12, weights))\n",
    "\n",
    "# Definisce la funzione di calcolo del rapporto rendimento/varianza\n",
    "def sharpe_ratio(weights):\n",
    "    return portfolio_return(weights) / np.sqrt(portfolio_variance(weights))\n",
    "\n",
    "# Definisce i vincoli sui pesi (somma dei pesi uguale a 1)\n",
    "constraints = ({'type': 'eq', 'fun': lambda x: np.sum(x) - 1}, {'type': 'ineq', 'fun': lambda x: x})\n",
    "\n",
    "# Definisce il range dei pesi (da 0 a 1)\n",
    "bounds = tuple((0, 1) for i in range(len(df.columns) - 1))\n",
    "\n",
    "# Definisce i pesi iniziali (equally-weighted)\n",
    "init_weights = [1 / (len(df.columns) - 1)] * (len(df.columns) - 1)\n",
    "\n",
    "# Minimizza la funzione del rapporto rendimento/varianza per ottenere i pesi ottimali del portafoglio\n",
    "result = minimize(sharpe_ratio, init_weights, method='SLSQP', bounds=bounds, constraints=constraints)\n",
    "\n",
    "weights_best_return_risk = result.x\n",
    "\n",
    "\n",
    "\n",
    "\n",
    "###---------------- SOTTO IL MIGLIOR RISCHIO -----------------###\n",
    "\n",
    "\n",
    "\n",
    "\n",
    "# Definisce la funzione di obiettivo come la varianza del portafoglio\n",
    "def minimize_variance(weights):\n",
    "    return portfolio_variance(weights)\n",
    "\n",
    "# Minimizza la funzione della varianza del portafoglio per ottenere i pesi ottimali del portafoglio\n",
    "result = minimize(minimize_variance, init_weights, method='SLSQP', bounds=bounds, constraints=constraints)\n",
    "\n",
    "weights_min_risk = result.x\n",
    "\n",
    "pf_return = portfolio_return(weights_min_risk)\n",
    "pf_risk = np.sqrt(portfolio_variance(weights_min_risk))\n",
    "pf_sharpe_ratio = pf_return / pf_risk\n",
    "\n",
    "# Stampa i pesi ottimali del portafoglio con rischio minimo\n",
    "\n",
    "print('Ritorno del portafoglio: ' + str(pf_return))\n",
    "print('Rischio del portafoglio: ' + str(pf_risk))\n",
    "print('Sharpe Ratio del portafoglio: ' + str(pf_sharpe_ratio))\n",
    "\n",
    "#print(weights_min_risk)\n",
    "\n"
   ]
  },
  {
   "cell_type": "code",
   "execution_count": 41,
   "metadata": {},
   "outputs": [
    {
     "data": {
      "image/png": "[encoded data removed]",
      "text/plain": [
       "<Figure size 432x288 with 1 Axes>"
      ]
     },
     "metadata": {
      "needs_background": "light"
     },
     "output_type": "display_data"
    }
   ],
   "source": [
    "import matplotlib.pyplot as plt\n",
    "\n",
    "# Crea una lista con i nomi degli assets\n",
    "assets = list(df.columns[1:])\n",
    "\n",
    "# Crea un grafico a barre con i pesi del portafoglio\n",
    "plt.bar(assets, weights_min_risk)\n",
    "\n",
    "# Aggiunge il titolo al grafico\n",
    "plt.title('Pesatura ottimale del portafoglio')\n",
    "\n",
    "# Aggiunge l'etichetta dell'asse y\n",
    "plt.ylabel('Pesatura')\n",
    "\n",
    "# Mostra il grafico\n",
    "plt.show()\n"
   ]
  }
 ],
 "metadata": {
  "kernelspec": {
   "display_name": "STANDARD",
   "language": "python",
   "name": "python3"
  },
  "language_info": {
   "codemirror_mode": {
    "name": "ipython",
    "version": 3
   },
   "file_extension": ".py",
   "mimetype": "text/x-python",
   "name": "python",
   "nbconvert_exporter": "python",
   "pygments_lexer": "ipython3",
   "version": "3.7.12"
  },
  "orig_nbformat": 4
 },
 "nbformat": 4,
 "nbformat_minor": 2
}
